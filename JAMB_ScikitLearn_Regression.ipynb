{
 "cells": [
  {
   "cell_type": "markdown",
   "id": "2ec2b537",
   "metadata": {},
   "source": [
    "\n",
    "# 🔁 Rebuilding JAMB Regression Model using Scikit-learn\n",
    "\n",
    "This notebook recreates the best model from PyCaret using native Scikit-learn tools for transparency and control.\n"
   ]
  },
  {
   "cell_type": "markdown",
   "id": "3e68a7fe",
   "metadata": {},
   "source": [
    "[Eda Report](https://mukhtarasif.github.io/EDA_Reports/ydata/JAMB_YData_Profile_Report.html)"
   ]
  },
  {
   "cell_type": "code",
   "execution_count": 1,
   "id": "113fb4fa",
   "metadata": {},
   "outputs": [
    {
     "name": "stdout",
     "output_type": "stream",
     "text": [
      "MAE: 31.24795\n",
      "RMSE: 38.95153830210047\n",
      "R² Score: 0.2562509137195814\n"
     ]
    }
   ],
   "source": [
    "\n",
    "import pandas as pd\n",
    "from sklearn.model_selection import train_test_split\n",
    "from sklearn.ensemble import RandomForestRegressor\n",
    "from sklearn.metrics import mean_absolute_error, mean_squared_error, r2_score\n",
    "from sklearn.preprocessing import LabelEncoder\n",
    "import numpy as np\n",
    "\n",
    "df = pd.read_csv(\"jamb_exam_results.csv\")\n",
    "df = df.drop(columns=[\"Student_ID\"])\n",
    "\n",
    "# Encode categorical features\n",
    "df_encoded = df.copy()\n",
    "for col in df_encoded.select_dtypes(include=\"object\").columns:\n",
    "    df_encoded[col] = LabelEncoder().fit_transform(df_encoded[col])\n",
    "\n",
    "X = df_encoded.drop(\"JAMB_Score\", axis=1)\n",
    "y = df_encoded[\"JAMB_Score\"]\n",
    "\n",
    "X_train, X_test, y_train, y_test = train_test_split(X, y, test_size=0.2, random_state=123)\n",
    "\n",
    "model = RandomForestRegressor(n_estimators=100, random_state=123)\n",
    "model.fit(X_train, y_train)\n",
    "y_pred = model.predict(X_test)\n",
    "\n",
    "# Metrics\n",
    "print(\"MAE:\", mean_absolute_error(y_test, y_pred))\n",
    "print(\"RMSE:\", np.sqrt(mean_squared_error(y_test, y_pred)))\n",
    "print(\"R² Score:\", r2_score(y_test, y_pred))\n"
   ]
  }
 ],
 "metadata": {
  "kernelspec": {
   "display_name": "Python 3 (ipykernel)",
   "language": "python",
   "name": "python3"
  },
  "language_info": {
   "codemirror_mode": {
    "name": "ipython",
    "version": 3
   },
   "file_extension": ".py",
   "mimetype": "text/x-python",
   "name": "python",
   "nbconvert_exporter": "python",
   "pygments_lexer": "ipython3",
   "version": "3.11.11"
  }
 },
 "nbformat": 4,
 "nbformat_minor": 5
}
