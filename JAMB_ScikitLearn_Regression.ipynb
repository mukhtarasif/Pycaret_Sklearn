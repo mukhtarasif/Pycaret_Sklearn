{
 "cells": [
  {
   "cell_type": "markdown",
   "id": "2ec2b537",
   "metadata": {},
   "source": [
    "\n",
    "# 🔁 Rebuilding JAMB Regression Model using Scikit-learn\n",
    "\n",
    "This notebook recreates the best model from PyCaret using native Scikit-learn tools for transparency and control.\n"
   ]
  },
  {
   "cell_type": "markdown",
   "id": "4ddcea72",
   "metadata": {},
   "source": [
    "## 🧾 Data Dictionary: JAMB Exam Results\n",
    "\n",
    "| Column Name                     | Data Type | Description |\n",
    "|--------------------------------|-----------|-------------|\n",
    "| **JAMB_Score**                 | `int64`   | Final exam score (target variable) |\n",
    "| **Study_Hours_Per_Week**       | `int64`   | Average number of study hours per week |\n",
    "| **Attendance_Rate**            | `int64`   | Attendance percentage |\n",
    "| **Teacher_Quality**            | `int64`   | Teacher quality rating (1–5 scale) |\n",
    "| **Distance_To_School**         | `float64` | Distance from home to school in kilometers |\n",
    "| **School_Type**                | `object`  | Type of school (Public/Private) |\n",
    "| **School_Location**            | `object`  | Location of the school (Urban/Rural) |\n",
    "| **Extra_Tutorials**            | `object`  | Whether student attended extra tutorials (Yes/No) |\n",
    "| **Access_To_Learning_Materials** | `object` | Whether student had access to learning materials (Yes/No) |\n",
    "| **Parent_Involvement**         | `object`  | Level of parental involvement (Low/Medium/High) |\n",
    "| **IT_Knowledge**               | `object`  | Student's IT knowledge level (Low/Medium/High) |\n",
    "| **Student_ID**                 | `int64`   | Unique student identifier (not used in modeling) |\n",
    "| **Age**                        | `int64`   | Age of the student |\n",
    "| **Gender**                     | `object`  | Student's gender (Male/Female) |\n",
    "| **Socioeconomic_Status**       | `object`  | Family’s financial background (Low/Medium/High) |\n",
    "| **Parent_Education_Level**     | `object`  | Highest education level of parents |\n",
    "| **Assignments_Completed**      | `int64`   | Number of assignments completed by the student (1–5 scale) |\n"
   ]
  },
  {
   "cell_type": "markdown",
   "id": "3e68a7fe",
   "metadata": {},
   "source": [
    "[Eda Report](https://mukhtarasif.github.io/EDA_Reports/ydata/JAMB_YData_Profile_Report.html)"
   ]
  },
  {
   "cell_type": "code",
   "execution_count": 1,
   "id": "113fb4fa",
   "metadata": {},
   "outputs": [
    {
     "name": "stdout",
     "output_type": "stream",
     "text": [
      "MAE: 31.24795\n",
      "RMSE: 38.95153830210047\n",
      "R² Score: 0.2562509137195814\n"
     ]
    }
   ],
   "source": [
    "\n",
    "import pandas as pd\n",
    "from sklearn.model_selection import train_test_split\n",
    "from sklearn.ensemble import RandomForestRegressor\n",
    "from sklearn.metrics import mean_absolute_error, mean_squared_error, r2_score\n",
    "from sklearn.preprocessing import LabelEncoder\n",
    "import numpy as np\n",
    "\n",
    "df = pd.read_csv(\"jamb_exam_results.csv\")\n",
    "df = df.drop(columns=[\"Student_ID\"])\n",
    "\n",
    "# Encode categorical features\n",
    "df_encoded = df.copy()\n",
    "for col in df_encoded.select_dtypes(include=\"object\").columns:\n",
    "    df_encoded[col] = LabelEncoder().fit_transform(df_encoded[col])\n",
    "\n",
    "X = df_encoded.drop(\"JAMB_Score\", axis=1)\n",
    "y = df_encoded[\"JAMB_Score\"]\n",
    "\n",
    "X_train, X_test, y_train, y_test = train_test_split(X, y, test_size=0.2, random_state=123)\n",
    "\n",
    "model = RandomForestRegressor(n_estimators=100, random_state=123)\n",
    "model.fit(X_train, y_train)\n",
    "y_pred = model.predict(X_test)\n",
    "\n",
    "# Metrics\n",
    "print(\"MAE:\", mean_absolute_error(y_test, y_pred))\n",
    "print(\"RMSE:\", np.sqrt(mean_squared_error(y_test, y_pred)))\n",
    "print(\"R² Score:\", r2_score(y_test, y_pred))\n"
   ]
  },
  {
   "cell_type": "markdown",
   "id": "2f677744",
   "metadata": {},
   "source": [
    "## 📈 Model Evaluation Summary\n",
    "\n",
    "Below are the performance metrics for the final regression model predicting **JAMB scores**:\n",
    "\n",
    "- **Mean Absolute Error (MAE)**: `31.25`  \n",
    "  → On average, the model's predictions are off by about 31 marks.\n",
    "\n",
    "- **Root Mean Squared Error (RMSE)**: `38.95`  \n",
    "  → Heavily penalizes larger errors. Indicates the typical error size in predictions.\n",
    "\n",
    "- **R² Score**: `0.2563`  \n",
    "  → About 25.63% of the variance in JAMB scores is explained by the model. There's room for improvement.\n"
   ]
  },
  {
   "cell_type": "markdown",
   "id": "5a2af075",
   "metadata": {},
   "source": []
  }
 ],
 "metadata": {
  "kernelspec": {
   "display_name": "Python 3 (ipykernel)",
   "language": "python",
   "name": "python3"
  },
  "language_info": {
   "codemirror_mode": {
    "name": "ipython",
    "version": 3
   },
   "file_extension": ".py",
   "mimetype": "text/x-python",
   "name": "python",
   "nbconvert_exporter": "python",
   "pygments_lexer": "ipython3",
   "version": "3.11.11"
  }
 },
 "nbformat": 4,
 "nbformat_minor": 5
}
